{
 "cells": [
  {
   "cell_type": "code",
   "execution_count": 1,
   "metadata": {},
   "outputs": [],
   "source": [
    "FOSSA_DEPENDENCIES=\"../dependencies.seldon-operator.yaml\"\n",
    "BAZAAR_USER=\"\"\n",
    "BAZAAR_TOKEN=\"\"\n",
    "PEDIGREE_API_URL=\"http://papi.internal.ericsson.com\""
   ]
  },
  {
   "cell_type": "code",
   "execution_count": 2,
   "metadata": {},
   "outputs": [],
   "source": [
    "if BAZAAR_TOKEN is None or BAZAAR_USER is None:\n",
    "    raise ValueError(\"BAZAAR_TOKEN or BAZAAR_USER has not been set\")"
   ]
  },
  {
   "cell_type": "code",
   "execution_count": 3,
   "metadata": {},
   "outputs": [],
   "source": [
    "import requests \n",
    "\n",
    "s = requests.Session()\n",
    "\n",
    "common_params= { \"username\" : BAZAAR_USER, \"token\" : BAZAAR_TOKEN, \"facility\": \"COMPONENT_QUERY\"}"
   ]
  },
  {
   "cell_type": "code",
   "execution_count": 4,
   "metadata": {},
   "outputs": [
    {
     "name": "stdout",
     "output_type": "stream",
     "text": [
      "/usr/lib/python3/dist-packages/secretstorage/dhcrypto.py:15: CryptographyDeprecationWarning: int_from_bytes is deprecated, use int.from_bytes instead\n",
      "  from cryptography.utils import int_from_bytes\n",
      "/usr/lib/python3/dist-packages/secretstorage/util.py:19: CryptographyDeprecationWarning: int_from_bytes is deprecated, use int.from_bytes instead\n",
      "  from cryptography.utils import int_from_bytes\n",
      "Requirement already satisfied: curlify in /mnt/disk0/enxxram/home/enxxram/.local/lib/python3.8/site-packages (2.2.1)\n",
      "Requirement already satisfied: requests in /mnt/disk0/enxxram/home/enxxram/.local/lib/python3.8/site-packages (from curlify) (2.27.1)\n",
      "Requirement already satisfied: urllib3<1.27,>=1.21.1 in /mnt/disk0/enxxram/home/enxxram/.local/lib/python3.8/site-packages (from requests->curlify) (1.26.9)\n",
      "Requirement already satisfied: certifi>=2017.4.17 in /usr/lib/python3/dist-packages (from requests->curlify) (2019.11.28)\n",
      "Requirement already satisfied: charset-normalizer~=2.0.0; python_version >= \"3\" in /mnt/disk0/enxxram/home/enxxram/.local/lib/python3.8/site-packages (from requests->curlify) (2.0.12)\n",
      "Requirement already satisfied: idna<4,>=2.5; python_version >= \"3\" in /usr/lib/python3/dist-packages (from requests->curlify) (2.8)\n"
     ]
    }
   ],
   "source": [
    "!pip install curlify"
   ]
  },
  {
   "cell_type": "code",
   "execution_count": 5,
   "metadata": {},
   "outputs": [],
   "source": [
    "import yaml, pandas, curlify, json"
   ]
  },
  {
   "cell_type": "code",
   "execution_count": 6,
   "metadata": {},
   "outputs": [],
   "source": [
    "with open(FOSSA_DEPENDENCIES, \"r\") as f:\n",
    "    dep_dict = yaml.load(f, Loader=yaml.FullLoader)"
   ]
  },
  {
   "cell_type": "code",
   "execution_count": 7,
   "metadata": {},
   "outputs": [],
   "source": [
    "headers = {'Content-type': 'application/json', 'Accept': 'application/json'}\n",
    "\n",
    "for entry in dep_dict[\"dependencies\"]:\n",
    "    primID=entry['bazaar']['prim']\n",
    "    params=common_params.copy()\n",
    "    params[\"prim\"]=primID\n",
    "    paramsStr=json.dumps(params)\n",
    "    getQuery=f\"{PEDIGREE_API_URL}?query={paramsStr}\"\n",
    "    r= s.request(method=\"GET\", url=getQuery, headers=headers)\n",
    "    if primID != r.json().get(\"prim\"):\n",
    "        print(\"ERROR\")\n",
    "        print(f\"Input: {primID}, Output: {r.json().get('prim')}\")"
   ]
  }
 ],
 "metadata": {
  "kernelspec": {
   "display_name": "Python 3.8.10 64-bit",
   "language": "python",
   "name": "python3"
  },
  "language_info": {
   "codemirror_mode": {
    "name": "ipython",
    "version": 3
   },
   "file_extension": ".py",
   "mimetype": "text/x-python",
   "name": "python",
   "nbconvert_exporter": "python",
   "pygments_lexer": "ipython3",
   "version": "3.8.10"
  },
  "orig_nbformat": 4,
  "vscode": {
   "interpreter": {
    "hash": "916dbcbb3f70747c44a77c7bcd40155683ae19c65e1c03b4aa3499c5328201f1"
   }
  }
 },
 "nbformat": 4,
 "nbformat_minor": 2
}
