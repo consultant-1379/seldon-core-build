{
 "cells": [
  {
   "cell_type": "code",
   "execution_count": null,
   "metadata": {},
   "outputs": [],
   "source": [
    "COMPONENT='seldon-python-base'\n",
    "FOSSA_DEPENDENCIES = f\"../dependencies.{COMPONENT}.yaml\"\n",
    "OUTPUT_FILE = f\"../foss.usage.{COMPONENT}.yaml\""
   ]
  },
  {
   "cell_type": "code",
   "execution_count": null,
   "metadata": {},
   "outputs": [],
   "source": [
    "print (f\"FOSSA_DEPENDENCIES: {FOSSA_DEPENDENCIES}\")\n",
    "print (f\"OUTPUT_FILE: {OUTPUT_FILE}\")\n"
   ]
  },
  {
   "cell_type": "code",
   "execution_count": null,
   "metadata": {},
   "outputs": [],
   "source": [
    "import yaml \n",
    "\n",
    "with open(\"obligations_text.yaml\") as f:\n",
    "    license_dict = yaml.load(f, Loader=yaml.FullLoader)\n",
    "\n",
    "license_dict\n"
   ]
  },
  {
   "cell_type": "code",
   "execution_count": null,
   "metadata": {},
   "outputs": [],
   "source": [
    "! pip install pandas"
   ]
  },
  {
   "cell_type": "code",
   "execution_count": null,
   "metadata": {},
   "outputs": [],
   "source": [
    "import yaml, pandas"
   ]
  },
  {
   "cell_type": "code",
   "execution_count": null,
   "metadata": {},
   "outputs": [],
   "source": [
    "with open(FOSSA_DEPENDENCIES, \"r\") as f:\n",
    "    dep_dict = yaml.load(f, Loader=yaml.FullLoader)"
   ]
  },
  {
   "cell_type": "code",
   "execution_count": null,
   "metadata": {},
   "outputs": [],
   "source": [
    "flat_dict = {}\n",
    "invalid_entries = []\n",
    "for entry in dep_dict['dependencies']:\n",
    "    if entry['bazaar']['register'] == \"no\":\n",
    "        primID=entry['bazaar']['prim']\n",
    "        foss_product_number=primID.split(\"/\")[1]\n",
    "        nested_dict = {}\n",
    "        nested_dict[\"ID\"] = entry[\"ID\"]\n",
    "        nested_dict[\"usage\"] = entry['bazaar']['component_highlevel_description']\n",
    "        nested_dict[\"obligation\"] = \"unknown\"\n",
    "        nested_dict[\"license\"] = \"unknown\"\n",
    "        nested_dict[\"primID\"] = primID\n",
    "        if 'selected_licenses' in entry and len(entry['selected_licenses']) > 0:\n",
    "            nested_dict[\"license\"] = entry['selected_licenses'][0]\n",
    "        elif 'selected_licenses' in entry['mimer'] and len(entry['mimer']['selected_licenses']) > 0:\n",
    "            nested_dict[\"license\"] = entry['mimer']['selected_licenses'][0]\n",
    "        elif 'licenses' in entry and len(entry['licenses']) >= 1:\n",
    "            nested_dict[\"license\"] = entry['licenses'][0]\n",
    "        \n",
    "        if nested_dict[\"license\"] in license_dict.keys():\n",
    "            nested_dict[\"obligation\"] = license_dict[nested_dict[\"license\"]]\n",
    "        elif nested_dict[\"license\"] == \"MIT License\":\n",
    "            nested_dict[\"license\"] = \"MIT\"\n",
    "            nested_dict[\"obligation\"] = license_dict[\"MIT\"]\n",
    "        \n",
    "        if nested_dict[\"obligation\"] == \"unknown\" or nested_dict[\"license\"] == \"unknown\":\n",
    "            invalid_entries.append(nested_dict)\n",
    "        else:\n",
    "            if foss_product_number in flat_dict.keys():\n",
    "                flat_dict[foss_product_number].append(nested_dict)\n",
    "            else:\n",
    "                flat_dict[foss_product_number] = [nested_dict]\n"
   ]
  },
  {
   "cell_type": "code",
   "execution_count": null,
   "metadata": {},
   "outputs": [],
   "source": [
    "\n",
    "invalid_entries      \n",
    "\n",
    "if len(invalid_entries) > 0:\n",
    "    print(\"Invalid entries found\")\n",
    "    \n",
    "    import pandas as pd \n",
    "    df = pd.DataFrame(invalid_entries)\n",
    "    df[[\"ID\", \"primID\", \"license\"]].to_csv(f\"unknown_licenses_{COMPONENT}.csv\", index=False)\n",
    "\n",
    "else:\n",
    "    print(\"No invalid entries found\")"
   ]
  },
  {
   "cell_type": "code",
   "execution_count": null,
   "metadata": {},
   "outputs": [],
   "source": [
    "if len(invalid_entries) > 0:\n",
    "    df.groupby(\"license\")[[\"ID\"]].count()\n",
    "\n"
   ]
  },
  {
   "cell_type": "code",
   "execution_count": null,
   "metadata": {},
   "outputs": [],
   "source": [
    "from collections import OrderedDict\n",
    "ordered_dict=OrderedDict(sorted(flat_dict.items()))"
   ]
  },
  {
   "cell_type": "code",
   "execution_count": null,
   "metadata": {},
   "outputs": [],
   "source": [
    "def is_ascii(usage_text):\n",
    "    return all(ord(c) < 128 for c in usage_text)\n",
    "    "
   ]
  },
  {
   "cell_type": "code",
   "execution_count": null,
   "metadata": {},
   "outputs": [],
   "source": [
    "records=[]\n",
    "nonAsciiUsage = []\n",
    "quotes='\"'\n",
    "for key,value in ordered_dict.items():\n",
    "    first_entry = value[0] \n",
    "    ordered_dict = OrderedDict()\n",
    "    ordered_dict[\"product_number\"] = key\n",
    "    ordered_dict[\"license\"] = first_entry[\"license\"]\n",
    "    ordered_dict[\"obligation\"] = first_entry[\"obligation\"].rstrip('\\n')\n",
    "    usage = first_entry[\"usage\"].strip('\\\"')\n",
    "    ordered_dict[\"usage\"] = f\"{quotes}{usage}{quotes}\"\n",
    "    if not is_ascii(ordered_dict[\"usage\"]):\n",
    "        nonAsciiUsage.append(f\"Non-ascii character found in usage for product number {key}\", flush=True)\n",
    "    records.append(ordered_dict)\n",
    "\n",
    "records[0:10]"
   ]
  },
  {
   "cell_type": "code",
   "execution_count": null,
   "metadata": {},
   "outputs": [],
   "source": [
    "for record in nonAsciiUsage:\n",
    "    print(record)"
   ]
  },
  {
   "cell_type": "code",
   "execution_count": null,
   "metadata": {},
   "outputs": [],
   "source": [
    "from jinja2 import Template\n",
    "\n",
    "template = Template(\"\"\"\n",
    "#\n",
    "# COPYRIGHT Ericsson 2022\n",
    "#\n",
    "#\n",
    "#\n",
    "# The copyright to the computer program(s) herein is the property of\n",
    "#\n",
    "# Ericsson Inc. The programs may be used and/or copied only with written\n",
    "#\n",
    "# permission from Ericsson Inc. or in accordance with the terms and\n",
    "#\n",
    "# conditions stipulated in the agreement/contract under which the\n",
    "#\n",
    "# program(s) have been supplied.\n",
    "#\n",
    "\n",
    "modelVersion: 2.0\n",
    "fosses:\n",
    "{%- filter indent(2) -%}\n",
    "{% for record in records %}\n",
    "- product_number: {{ record.product_number }}\n",
    "  license: {{ record.license }}\n",
    "  obligation: |\n",
    "    {{ record.obligation | indent(width=4) }}\n",
    "  usage: |\n",
    "    {{ record.usage | indent(width=4) -}}\n",
    "{% endfor %}\n",
    "{%- endfilter -%}\n",
    "\"\"\")\n"
   ]
  },
  {
   "cell_type": "code",
   "execution_count": null,
   "metadata": {},
   "outputs": [],
   "source": [
    "output = template.render(records=records)"
   ]
  },
  {
   "cell_type": "code",
   "execution_count": null,
   "metadata": {},
   "outputs": [],
   "source": [
    "with open(OUTPUT_FILE, 'w') as f:\n",
    "    f.write(output)"
   ]
  },
  {
   "cell_type": "code",
   "execution_count": null,
   "metadata": {},
   "outputs": [],
   "source": []
  }
 ],
 "metadata": {
  "kernelspec": {
   "display_name": "Python 3.8.13 ('test-env-3.8')",
   "language": "python",
   "name": "python3"
  },
  "language_info": {
   "codemirror_mode": {
    "name": "ipython",
    "version": 3
   },
   "file_extension": ".py",
   "mimetype": "text/x-python",
   "name": "python",
   "nbconvert_exporter": "python",
   "pygments_lexer": "ipython3",
   "version": "3.8.13"
  },
  "orig_nbformat": 4,
  "vscode": {
   "interpreter": {
    "hash": "b2c512db8b59e6637dbadeefe5e52ed26f81f17dffafeed8e966e40243c3baf9"
   }
  }
 },
 "nbformat": 4,
 "nbformat_minor": 2
}
